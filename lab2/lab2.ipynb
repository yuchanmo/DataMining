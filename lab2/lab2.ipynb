{
 "cells": [
  {
   "cell_type": "markdown",
   "metadata": {},
   "source": [
    "# LAB 2\n",
    "## 2. Logistic regression\n",
    "\n",
    "\n",
    "### 데이터 설명\n",
    "\n",
    "- 설명변수 (25개) \n",
    "    - ID, AGE, INCOME, SEX, MARRIED (1: 결혼, 0: 미혼)\n",
    "    - FICO (신용점수), OWNHOME (자가 주택 소유 여부, 1: 소유), LOC (거주지, A-H)\n",
    "    - BUY6, 12, 18 (최근 6, 12, 18개월 간의 구입 횟수),VALUE24 (지난 24개월 간의 구입 총액),ORGSRC (고객 분류), DISCBUY (할인 고객 여부, 1: 할인 고객), RETURN24 (지난 24개월 간 상품 반품 여부), COA6 (6개월 간의 주소변경 여부, 1: 주소변경)\n",
    "- 반응변수: RESPOND (DM에 대한 반응 여부)\n",
    "\n",
    "### 데이터 불러오기"
   ]
  },
  {
   "cell_type": "code",
   "execution_count": 1,
   "metadata": {},
   "outputs": [
    {
     "name": "stderr",
     "output_type": "stream",
     "text": [
      "D:\\Users\\User\\Anaconda3\\lib\\site-packages\\statsmodels\\compat\\pandas.py:56: FutureWarning: The pandas.core.datetools module is deprecated and will be removed in a future version. Please use the pandas.tseries module instead.\n",
      "  from pandas.core import datetools\n"
     ]
    },
    {
     "name": "stdout",
     "output_type": "stream",
     "text": [
      "Data head \n",
      "           ID  RESPOND   AGE  INCOME SEX  MARRIED   FICO  OWNHOME LOC  CLIMATE  \\\n",
      "0  001371057        0  71.0    67.0   M      1.0  719.0      0.0   A       10   \n",
      "1  002093270        0  53.0    72.0   M      1.0  751.0      0.0   A       10   \n",
      "2  002783726        0  53.0    70.0   F      1.0  725.0      0.0   A       10   \n",
      "3  010800860        0  45.0    56.0   F      0.0  684.0      0.0   A       10   \n",
      "4  014577797        0  32.0    66.0   F      0.0  651.0      0.0   A       10   \n",
      "\n",
      "     ...     RETURN24  COA6  C1  C2 C3  C4  C5  C6  C7  PURCHTOT  \n",
      "0    ...            0     0   0   0  0   0   0   0   0         0  \n",
      "1    ...            0     0   0   0  0   0   0   0   0         0  \n",
      "2    ...            0     0   0   0  0   0   0   0   0         0  \n",
      "3    ...            0     0   0   0  0   0   0   0   0         0  \n",
      "4    ...            0     0   0   0  0   0   0   0   0         0  \n",
      "\n",
      "[5 rows x 26 columns]\n",
      "Data shape:  (10000, 26)\n"
     ]
    }
   ],
   "source": [
    "import pandas as pd\n",
    "import numpy as np\n",
    "import statsmodels.api as sm\n",
    "import statsmodels.formula.api as smf\n",
    "from sklearn.model_selection import train_test_split\n",
    "\n",
    "buy=pd.read_table('buytest.txt', delimiter=\" \")\n",
    "\n",
    "print('Data head \\n', buy.head())\n",
    "print('Data shape: ',buy.shape)"
   ]
  },
  {
   "cell_type": "code",
   "execution_count": 2,
   "metadata": {
    "scrolled": true
   },
   "outputs": [
    {
     "name": "stdout",
     "output_type": "stream",
     "text": [
      "The number of missing data:  ID            0\n",
      "RESPOND       0\n",
      "AGE         234\n",
      "INCOME      234\n",
      "SEX         234\n",
      "MARRIED     234\n",
      "FICO         39\n",
      "OWNHOME     234\n",
      "LOC           0\n",
      "CLIMATE       0\n",
      "BUY6          0\n",
      "BUY12         0\n",
      "BUY18         0\n",
      "VALUE24       0\n",
      "ORGSRC      521\n",
      "DISCBUY       0\n",
      "RETURN24      0\n",
      "COA6          0\n",
      "C1            0\n",
      "C2            0\n",
      "C3            0\n",
      "C4            0\n",
      "C5            0\n",
      "C6            0\n",
      "C7            0\n",
      "PURCHTOT      0\n",
      "dtype: int64\n",
      "(9221, 25)\n"
     ]
    },
    {
     "data": {
      "text/html": [
       "<div>\n",
       "<style scoped>\n",
       "    .dataframe tbody tr th:only-of-type {\n",
       "        vertical-align: middle;\n",
       "    }\n",
       "\n",
       "    .dataframe tbody tr th {\n",
       "        vertical-align: top;\n",
       "    }\n",
       "\n",
       "    .dataframe thead th {\n",
       "        text-align: right;\n",
       "    }\n",
       "</style>\n",
       "<table border=\"1\" class=\"dataframe\">\n",
       "  <thead>\n",
       "    <tr style=\"text-align: right;\">\n",
       "      <th></th>\n",
       "      <th>count</th>\n",
       "      <th>mean</th>\n",
       "      <th>std</th>\n",
       "      <th>min</th>\n",
       "      <th>25%</th>\n",
       "      <th>50%</th>\n",
       "      <th>75%</th>\n",
       "      <th>max</th>\n",
       "    </tr>\n",
       "  </thead>\n",
       "  <tbody>\n",
       "    <tr>\n",
       "      <th>RESPOND</th>\n",
       "      <td>9221.0</td>\n",
       "      <td>0.075046</td>\n",
       "      <td>0.263480</td>\n",
       "      <td>0.0</td>\n",
       "      <td>0.0</td>\n",
       "      <td>0.0</td>\n",
       "      <td>0.0</td>\n",
       "      <td>1.0</td>\n",
       "    </tr>\n",
       "    <tr>\n",
       "      <th>AGE</th>\n",
       "      <td>9221.0</td>\n",
       "      <td>44.577269</td>\n",
       "      <td>10.086245</td>\n",
       "      <td>18.0</td>\n",
       "      <td>38.0</td>\n",
       "      <td>44.0</td>\n",
       "      <td>51.0</td>\n",
       "      <td>75.0</td>\n",
       "    </tr>\n",
       "    <tr>\n",
       "      <th>INCOME</th>\n",
       "      <td>9221.0</td>\n",
       "      <td>47.941980</td>\n",
       "      <td>15.996169</td>\n",
       "      <td>15.0</td>\n",
       "      <td>35.0</td>\n",
       "      <td>50.0</td>\n",
       "      <td>61.0</td>\n",
       "      <td>114.0</td>\n",
       "    </tr>\n",
       "    <tr>\n",
       "      <th>MARRIED</th>\n",
       "      <td>9221.0</td>\n",
       "      <td>0.584102</td>\n",
       "      <td>0.492903</td>\n",
       "      <td>0.0</td>\n",
       "      <td>0.0</td>\n",
       "      <td>1.0</td>\n",
       "      <td>1.0</td>\n",
       "      <td>1.0</td>\n",
       "    </tr>\n",
       "    <tr>\n",
       "      <th>FICO</th>\n",
       "      <td>9221.0</td>\n",
       "      <td>694.262228</td>\n",
       "      <td>28.788755</td>\n",
       "      <td>577.0</td>\n",
       "      <td>676.0</td>\n",
       "      <td>695.0</td>\n",
       "      <td>714.0</td>\n",
       "      <td>800.0</td>\n",
       "    </tr>\n",
       "    <tr>\n",
       "      <th>OWNHOME</th>\n",
       "      <td>9221.0</td>\n",
       "      <td>0.335864</td>\n",
       "      <td>0.472317</td>\n",
       "      <td>0.0</td>\n",
       "      <td>0.0</td>\n",
       "      <td>0.0</td>\n",
       "      <td>1.0</td>\n",
       "      <td>1.0</td>\n",
       "    </tr>\n",
       "    <tr>\n",
       "      <th>CLIMATE</th>\n",
       "      <td>9221.0</td>\n",
       "      <td>20.344865</td>\n",
       "      <td>6.109125</td>\n",
       "      <td>10.0</td>\n",
       "      <td>20.0</td>\n",
       "      <td>20.0</td>\n",
       "      <td>20.0</td>\n",
       "      <td>30.0</td>\n",
       "    </tr>\n",
       "    <tr>\n",
       "      <th>BUY6</th>\n",
       "      <td>9221.0</td>\n",
       "      <td>0.127752</td>\n",
       "      <td>0.345957</td>\n",
       "      <td>0.0</td>\n",
       "      <td>0.0</td>\n",
       "      <td>0.0</td>\n",
       "      <td>0.0</td>\n",
       "      <td>2.0</td>\n",
       "    </tr>\n",
       "    <tr>\n",
       "      <th>BUY12</th>\n",
       "      <td>9221.0</td>\n",
       "      <td>0.208871</td>\n",
       "      <td>0.435381</td>\n",
       "      <td>0.0</td>\n",
       "      <td>0.0</td>\n",
       "      <td>0.0</td>\n",
       "      <td>0.0</td>\n",
       "      <td>2.0</td>\n",
       "    </tr>\n",
       "    <tr>\n",
       "      <th>BUY18</th>\n",
       "      <td>9221.0</td>\n",
       "      <td>0.345733</td>\n",
       "      <td>0.569831</td>\n",
       "      <td>0.0</td>\n",
       "      <td>0.0</td>\n",
       "      <td>0.0</td>\n",
       "      <td>1.0</td>\n",
       "      <td>3.0</td>\n",
       "    </tr>\n",
       "    <tr>\n",
       "      <th>VALUE24</th>\n",
       "      <td>9221.0</td>\n",
       "      <td>253.933738</td>\n",
       "      <td>153.635988</td>\n",
       "      <td>60.0</td>\n",
       "      <td>149.0</td>\n",
       "      <td>213.0</td>\n",
       "      <td>312.0</td>\n",
       "      <td>1253.0</td>\n",
       "    </tr>\n",
       "    <tr>\n",
       "      <th>DISCBUY</th>\n",
       "      <td>9221.0</td>\n",
       "      <td>0.271879</td>\n",
       "      <td>0.444952</td>\n",
       "      <td>0.0</td>\n",
       "      <td>0.0</td>\n",
       "      <td>0.0</td>\n",
       "      <td>1.0</td>\n",
       "      <td>1.0</td>\n",
       "    </tr>\n",
       "    <tr>\n",
       "      <th>RETURN24</th>\n",
       "      <td>9221.0</td>\n",
       "      <td>0.071034</td>\n",
       "      <td>0.256895</td>\n",
       "      <td>0.0</td>\n",
       "      <td>0.0</td>\n",
       "      <td>0.0</td>\n",
       "      <td>0.0</td>\n",
       "      <td>1.0</td>\n",
       "    </tr>\n",
       "    <tr>\n",
       "      <th>COA6</th>\n",
       "      <td>9221.0</td>\n",
       "      <td>0.028305</td>\n",
       "      <td>0.165852</td>\n",
       "      <td>0.0</td>\n",
       "      <td>0.0</td>\n",
       "      <td>0.0</td>\n",
       "      <td>0.0</td>\n",
       "      <td>1.0</td>\n",
       "    </tr>\n",
       "    <tr>\n",
       "      <th>C1</th>\n",
       "      <td>9221.0</td>\n",
       "      <td>0.151502</td>\n",
       "      <td>1.487743</td>\n",
       "      <td>0.0</td>\n",
       "      <td>0.0</td>\n",
       "      <td>0.0</td>\n",
       "      <td>0.0</td>\n",
       "      <td>46.0</td>\n",
       "    </tr>\n",
       "    <tr>\n",
       "      <th>C2</th>\n",
       "      <td>9221.0</td>\n",
       "      <td>0.955862</td>\n",
       "      <td>6.124265</td>\n",
       "      <td>0.0</td>\n",
       "      <td>0.0</td>\n",
       "      <td>0.0</td>\n",
       "      <td>0.0</td>\n",
       "      <td>115.0</td>\n",
       "    </tr>\n",
       "    <tr>\n",
       "      <th>C3</th>\n",
       "      <td>9221.0</td>\n",
       "      <td>0.579004</td>\n",
       "      <td>4.324471</td>\n",
       "      <td>0.0</td>\n",
       "      <td>0.0</td>\n",
       "      <td>0.0</td>\n",
       "      <td>0.0</td>\n",
       "      <td>127.0</td>\n",
       "    </tr>\n",
       "    <tr>\n",
       "      <th>C4</th>\n",
       "      <td>9221.0</td>\n",
       "      <td>0.558182</td>\n",
       "      <td>4.668908</td>\n",
       "      <td>0.0</td>\n",
       "      <td>0.0</td>\n",
       "      <td>0.0</td>\n",
       "      <td>0.0</td>\n",
       "      <td>125.0</td>\n",
       "    </tr>\n",
       "    <tr>\n",
       "      <th>C5</th>\n",
       "      <td>9221.0</td>\n",
       "      <td>0.361132</td>\n",
       "      <td>2.971328</td>\n",
       "      <td>0.0</td>\n",
       "      <td>0.0</td>\n",
       "      <td>0.0</td>\n",
       "      <td>0.0</td>\n",
       "      <td>90.0</td>\n",
       "    </tr>\n",
       "    <tr>\n",
       "      <th>C6</th>\n",
       "      <td>9221.0</td>\n",
       "      <td>3.309619</td>\n",
       "      <td>14.867408</td>\n",
       "      <td>0.0</td>\n",
       "      <td>0.0</td>\n",
       "      <td>0.0</td>\n",
       "      <td>0.0</td>\n",
       "      <td>249.0</td>\n",
       "    </tr>\n",
       "    <tr>\n",
       "      <th>C7</th>\n",
       "      <td>9221.0</td>\n",
       "      <td>0.169830</td>\n",
       "      <td>1.869090</td>\n",
       "      <td>0.0</td>\n",
       "      <td>0.0</td>\n",
       "      <td>0.0</td>\n",
       "      <td>0.0</td>\n",
       "      <td>62.0</td>\n",
       "    </tr>\n",
       "    <tr>\n",
       "      <th>PURCHTOT</th>\n",
       "      <td>9221.0</td>\n",
       "      <td>6.085132</td>\n",
       "      <td>26.793450</td>\n",
       "      <td>0.0</td>\n",
       "      <td>0.0</td>\n",
       "      <td>0.0</td>\n",
       "      <td>0.0</td>\n",
       "      <td>446.0</td>\n",
       "    </tr>\n",
       "  </tbody>\n",
       "</table>\n",
       "</div>"
      ],
      "text/plain": [
       "           count        mean         std    min    25%    50%    75%     max\n",
       "RESPOND   9221.0    0.075046    0.263480    0.0    0.0    0.0    0.0     1.0\n",
       "AGE       9221.0   44.577269   10.086245   18.0   38.0   44.0   51.0    75.0\n",
       "INCOME    9221.0   47.941980   15.996169   15.0   35.0   50.0   61.0   114.0\n",
       "MARRIED   9221.0    0.584102    0.492903    0.0    0.0    1.0    1.0     1.0\n",
       "FICO      9221.0  694.262228   28.788755  577.0  676.0  695.0  714.0   800.0\n",
       "OWNHOME   9221.0    0.335864    0.472317    0.0    0.0    0.0    1.0     1.0\n",
       "CLIMATE   9221.0   20.344865    6.109125   10.0   20.0   20.0   20.0    30.0\n",
       "BUY6      9221.0    0.127752    0.345957    0.0    0.0    0.0    0.0     2.0\n",
       "BUY12     9221.0    0.208871    0.435381    0.0    0.0    0.0    0.0     2.0\n",
       "BUY18     9221.0    0.345733    0.569831    0.0    0.0    0.0    1.0     3.0\n",
       "VALUE24   9221.0  253.933738  153.635988   60.0  149.0  213.0  312.0  1253.0\n",
       "DISCBUY   9221.0    0.271879    0.444952    0.0    0.0    0.0    1.0     1.0\n",
       "RETURN24  9221.0    0.071034    0.256895    0.0    0.0    0.0    0.0     1.0\n",
       "COA6      9221.0    0.028305    0.165852    0.0    0.0    0.0    0.0     1.0\n",
       "C1        9221.0    0.151502    1.487743    0.0    0.0    0.0    0.0    46.0\n",
       "C2        9221.0    0.955862    6.124265    0.0    0.0    0.0    0.0   115.0\n",
       "C3        9221.0    0.579004    4.324471    0.0    0.0    0.0    0.0   127.0\n",
       "C4        9221.0    0.558182    4.668908    0.0    0.0    0.0    0.0   125.0\n",
       "C5        9221.0    0.361132    2.971328    0.0    0.0    0.0    0.0    90.0\n",
       "C6        9221.0    3.309619   14.867408    0.0    0.0    0.0    0.0   249.0\n",
       "C7        9221.0    0.169830    1.869090    0.0    0.0    0.0    0.0    62.0\n",
       "PURCHTOT  9221.0    6.085132   26.793450    0.0    0.0    0.0    0.0   446.0"
      ]
     },
     "execution_count": 2,
     "metadata": {},
     "output_type": "execute_result"
    }
   ],
   "source": [
    "print('The number of missing data: ', buy.isnull().sum())\n",
    "\n",
    "# 결측치 제거\n",
    "buy_com = buy.dropna()\n",
    "buy_com = buy_com.drop([\"ID\"], axis = 1)\n",
    "print(buy_com.shape)\n",
    "buy_com.describe().transpose()"
   ]
  },
  {
   "cell_type": "markdown",
   "metadata": {},
   "source": [
    "- 범주형 변수에 대해 가변수 생성 : SEX, LOC, ORGSRC"
   ]
  },
  {
   "cell_type": "code",
   "execution_count": 3,
   "metadata": {
    "collapsed": true
   },
   "outputs": [],
   "source": [
    "buy_com = pd.get_dummies(buy_com, drop_first=True,                            \n",
    "                         columns= ['SEX', 'LOC', 'ORGSRC'])"
   ]
  },
  {
   "cell_type": "code",
   "execution_count": 4,
   "metadata": {},
   "outputs": [
    {
     "data": {
      "text/plain": [
       "(9221, 36)"
      ]
     },
     "execution_count": 4,
     "metadata": {},
     "output_type": "execute_result"
    }
   ],
   "source": [
    "buy_com.shape"
   ]
  },
  {
   "cell_type": "markdown",
   "metadata": {},
   "source": [
    "- C1~C7, PURCHTOT은 RESPOND의 원인이 아니라 결과이므로 입력변수에서 제외"
   ]
  },
  {
   "cell_type": "code",
   "execution_count": 5,
   "metadata": {
    "collapsed": true
   },
   "outputs": [],
   "source": [
    "buydata = buy_com.drop([\"C1\",\"C2\",\"C3\",\"C4\",\"C5\",\"C6\",\"C7\",\"PURCHTOT\",\"CLIMATE\"]\n",
    "                       , axis = 1)"
   ]
  },
  {
   "cell_type": "markdown",
   "metadata": {},
   "source": [
    "- 데이터셋 분할"
   ]
  },
  {
   "cell_type": "code",
   "execution_count": 6,
   "metadata": {},
   "outputs": [
    {
     "name": "stdout",
     "output_type": "stream",
     "text": [
      "train dim:  (6454, 27) \n",
      " test dim: (2767, 27)\n",
      "(6454, 26) (6454,)\n"
     ]
    }
   ],
   "source": [
    "train, test = train_test_split(buydata, test_size = 0.3, random_state = 1)\n",
    "print('train dim: ',train.shape,'\\n test dim:', test.shape)\n",
    "y_train = train.loc[:,\"RESPOND\"]\n",
    "X_train = train.drop(\"RESPOND\", axis = 1)\n",
    "\n",
    "y_test = test.loc[:,\"RESPOND\"]\n",
    "X_test = test.drop(\"RESPOND\", axis = 1)\n",
    "print(X_train.shape, y_train.shape)"
   ]
  },
  {
   "cell_type": "markdown",
   "metadata": {},
   "source": [
    "### 탐색적 자료 분석\n",
    "- 반응 변수의 분포"
   ]
  },
  {
   "cell_type": "code",
   "execution_count": 7,
   "metadata": {},
   "outputs": [
    {
     "data": {
      "image/png": "[encoded data removed]",
      "text/plain": [
       "<matplotlib.figure.Figure at 0x1c7f196f940>"
      ]
     },
     "metadata": {},
     "output_type": "display_data"
    }
   ],
   "source": [
    "import matplotlib.pyplot as plt\n",
    "import seaborn as sns\n",
    "count = y_train.value_counts()\n",
    "ratio = count[0]/count[1]\n",
    "count.plot(kind = 'bar')\n",
    "plt.title('The distribution of RESPOND in Training set'+\n",
    "          \"\\n# of (Y=0): # of (Y=1) =  %0.2f\" % ratio + \": 1\")\n",
    "plt.ylabel('Frequency')\n",
    "plt.show()"
   ]
  },
  {
   "cell_type": "code",
   "execution_count": 8,
   "metadata": {},
   "outputs": [
    {
     "data": {
      "image/png": "[encoded data removed]",
      "text/plain": [
       "<matplotlib.figure.Figure at 0x1c7f297b710>"
      ]
     },
     "metadata": {},
     "output_type": "display_data"
    }
   ],
   "source": [
    "count = y_test.value_counts()\n",
    "ratio = count[0]/count[1]\n",
    "count.plot(kind = 'bar')\n",
    "plt.title('The distribution of RESPOND in Test set'+\n",
    "          \"\\n# of (Y=0): # of (Y=1) =  %0.2f\" % ratio + \": 1\")\n",
    "plt.ylabel('Frequency')\n",
    "plt.show()"
   ]
  },
  {
   "cell_type": "markdown",
   "metadata": {},
   "source": [
    "### 로지스틱 회귀분석"
   ]
  },
  {
   "cell_type": "code",
   "execution_count": 9,
   "metadata": {},
   "outputs": [
    {
     "name": "stdout",
     "output_type": "stream",
     "text": [
      "X_train dim:  (6454, 27)\n",
      "rank of X_train^TX_train:  27\n",
      "Optimization terminated successfully.\n",
      "         Current function value: 0.253546\n",
      "         Iterations 7\n",
      "                         Results: Logit\n",
      "=================================================================\n",
      "Model:              Logit            Pseudo R-squared: 0.047     \n",
      "Dependent Variable: RESPOND          AIC:              3326.7778 \n",
      "Date:               2018-09-03 19:47 BIC:              3509.6341 \n",
      "No. Observations:   6454             Log-Likelihood:   -1636.4   \n",
      "Df Model:           26               LL-Null:          -1716.6   \n",
      "Df Residuals:       6427             LLR p-value:      2.5249e-21\n",
      "Converged:          1.0000           Scale:            1.0000    \n",
      "No. Iterations:     7.0000                                       \n",
      "------------------------------------------------------------------\n",
      "               Coef.   Std.Err.     z     P>|z|    [0.025   0.975]\n",
      "------------------------------------------------------------------\n",
      "AGE           -0.0356    0.0055  -6.4613  0.0000  -0.0464  -0.0248\n",
      "INCOME        -0.0010    0.0031  -0.3197  0.7492  -0.0070   0.0051\n",
      "MARRIED        0.4518    0.1105   4.0872  0.0000   0.2351   0.6685\n",
      "FICO          -0.0053    0.0016  -3.2303  0.0012  -0.0085  -0.0021\n",
      "OWNHOME       -0.3126    0.1125  -2.7787  0.0055  -0.5331  -0.0921\n",
      "BUY6          -0.3201    0.1951  -1.6407  0.1009  -0.7024   0.0623\n",
      "BUY12         -0.2871    0.1820  -1.5770  0.1148  -0.6439   0.0697\n",
      "BUY18          0.7723    0.1262   6.1188  0.0000   0.5249   1.0196\n",
      "VALUE24       -0.0000    0.0004  -0.1096  0.9127  -0.0008   0.0008\n",
      "DISCBUY       -0.1426    0.1111  -1.2827  0.1996  -0.3604   0.0753\n",
      "RETURN24      -0.1781    0.2010  -0.8862  0.3755  -0.5721   0.2158\n",
      "COA6           0.0311    0.2716   0.1145  0.9088  -0.5013   0.5635\n",
      "SEX_M         -0.0706    0.0985  -0.7169  0.4735  -0.2638   0.1225\n",
      "LOC_B         -0.2935    0.2165  -1.3559  0.1751  -0.7178   0.1308\n",
      "LOC_C          0.2342    0.2526   0.9270  0.3539  -0.2610   0.7293\n",
      "LOC_D          0.3041    0.2470   1.2311  0.2183  -0.1800   0.7881\n",
      "LOC_E         -0.2330    0.2127  -1.0956  0.2733  -0.6499   0.1838\n",
      "LOC_F         -0.3943    0.2170  -1.8169  0.0692  -0.8196   0.0310\n",
      "LOC_G         -0.0817    0.2417  -0.3380  0.7354  -0.5554   0.3920\n",
      "LOC_H         -0.2259    0.2373  -0.9523  0.3410  -0.6909   0.2391\n",
      "ORGSRC_D      -0.1564    0.1785  -0.8761  0.3810  -0.5062   0.1935\n",
      "ORGSRC_I       0.2972    0.4615   0.6439  0.5196  -0.6074   1.2017\n",
      "ORGSRC_O       0.0992    0.1664   0.5964  0.5509  -0.2269   0.4254\n",
      "ORGSRC_P       0.0754    0.1776   0.4246  0.6711  -0.2726   0.4234\n",
      "ORGSRC_R       0.0537    0.1877   0.2861  0.7748  -0.3141   0.4215\n",
      "ORGSRC_U       0.0374    0.1751   0.2135  0.8309  -0.3058   0.3806\n",
      "intercept      2.5971    1.1882   2.1858  0.0288   0.2683   4.9260\n",
      "=================================================================\n",
      "\n"
     ]
    }
   ],
   "source": [
    "import statsmodels.api as sm\n",
    "\n",
    "\n",
    "X_train[\"intercept\"] = 1.0 # for intercept\n",
    "print('X_train dim: ',X_train.shape)\n",
    "print('rank of X_train^TX_train: ',np.linalg.matrix_rank(X_train.values))\n",
    "\n",
    "logit = sm.Logit(y_train,X_train)\n",
    "logit_res = logit.fit(maxiter = 1000)\n",
    "print(logit_res.summary2())"
   ]
  },
  {
   "cell_type": "markdown",
   "metadata": {},
   "source": [
    "- 오즈비"
   ]
  },
  {
   "cell_type": "code",
   "execution_count": 10,
   "metadata": {},
   "outputs": [
    {
     "name": "stdout",
     "output_type": "stream",
     "text": [
      "AGE           0.965023\n",
      "INCOME        0.999014\n",
      "MARRIED       1.571141\n",
      "FICO          0.994718\n",
      "OWNHOME       0.731522\n",
      "BUY6          0.726103\n",
      "BUY12         0.750456\n",
      "BUY18         2.164666\n",
      "VALUE24       0.999955\n",
      "DISCBUY       0.867134\n",
      "RETURN24      0.836833\n",
      "COA6          1.031603\n",
      "SEX_M         0.931798\n",
      "LOC_B         0.745643\n",
      "LOC_C         1.263878\n",
      "LOC_D         1.355348\n",
      "LOC_E         0.792130\n",
      "LOC_F         0.674167\n",
      "LOC_G         0.921548\n",
      "LOC_H         0.797771\n",
      "ORGSRC_D      0.855230\n",
      "ORGSRC_I      1.346044\n",
      "ORGSRC_O      1.104324\n",
      "ORGSRC_P      1.078317\n",
      "ORGSRC_R      1.055145\n",
      "ORGSRC_U      1.038093\n",
      "intercept    13.425084\n",
      "dtype: float64\n"
     ]
    }
   ],
   "source": [
    "print(np.exp(logit_res.params))"
   ]
  },
  {
   "cell_type": "markdown",
   "metadata": {},
   "source": [
    "- 확률 예측"
   ]
  },
  {
   "cell_type": "code",
   "execution_count": 11,
   "metadata": {},
   "outputs": [
    {
     "data": {
      "text/plain": [
       "6651    0.030568\n",
       "9819    0.086378\n",
       "4352    0.059042\n",
       "1349    0.056794\n",
       "9962    0.078399\n",
       "9478    0.044896\n",
       "5991    0.037978\n",
       "1941    0.054654\n",
       "6751    0.046008\n",
       "2383    0.036409\n",
       "4968    0.052990\n",
       "4982    0.029095\n",
       "8545    0.059641\n",
       "1711    0.178298\n",
       "4491    0.051837\n",
       "6789    0.034200\n",
       "7477    0.030822\n",
       "3353    0.047916\n",
       "7251    0.070973\n",
       "5443    0.078190\n",
       "8614    0.099691\n",
       "1877    0.049352\n",
       "4253    0.063299\n",
       "810     0.060101\n",
       "3643    0.117034\n",
       "9124    0.115133\n",
       "135     0.050612\n",
       "5612    0.070267\n",
       "6800    0.075417\n",
       "2249    0.045418\n",
       "          ...   \n",
       "3118    0.233309\n",
       "4788    0.112581\n",
       "1131    0.047820\n",
       "6638    0.018940\n",
       "6810    0.065212\n",
       "1217    0.092955\n",
       "2057    0.041681\n",
       "833     0.085057\n",
       "3301    0.089566\n",
       "8840    0.071108\n",
       "614     0.061184\n",
       "7085    0.019605\n",
       "8778    0.033418\n",
       "5167    0.089295\n",
       "3856    0.064400\n",
       "9158    0.061041\n",
       "2727    0.202077\n",
       "3207    0.181354\n",
       "5827    0.027358\n",
       "5851    0.040899\n",
       "3752    0.090148\n",
       "8417    0.050461\n",
       "4580    0.082325\n",
       "161     0.039306\n",
       "5483    0.039845\n",
       "3138    0.118615\n",
       "8484    0.120201\n",
       "993     0.094199\n",
       "5627    0.046799\n",
       "263     0.097233\n",
       "Length: 6454, dtype: float64"
      ]
     },
     "execution_count": 11,
     "metadata": {},
     "output_type": "execute_result"
    }
   ],
   "source": [
    "pred = logit_res.predict(X_train) # fitted probability\n",
    "pred"
   ]
  },
  {
   "cell_type": "markdown",
   "metadata": {},
   "source": [
    "### 사후 추출법을 이용하여 표본 생성"
   ]
  },
  {
   "cell_type": "code",
   "execution_count": 12,
   "metadata": {},
   "outputs": [
    {
     "name": "stdout",
     "output_type": "stream",
     "text": [
      "train dim:  (6454, 27) \n",
      " train y=0 dim: (5971, 27) \n",
      " train y=1 dim: (483, 27)\n"
     ]
    }
   ],
   "source": [
    "cc_train0 = train.loc[y_train == 0,:]\n",
    "cc_train1 = train.loc[y_train == 1,:]     \n",
    "print('train dim: ', train.shape , '\\n train y=0 dim:', cc_train0.shape,\n",
    "      '\\n train y=1 dim:', cc_train1.shape)"
   ]
  },
  {
   "cell_type": "code",
   "execution_count": 13,
   "metadata": {},
   "outputs": [
    {
     "name": "stdout",
     "output_type": "stream",
     "text": [
      "(2000, 27)\n"
     ]
    },
    {
     "name": "stderr",
     "output_type": "stream",
     "text": [
      "D:\\Users\\User\\Anaconda3\\lib\\site-packages\\sklearn\\model_selection\\_split.py:2010: FutureWarning: From version 0.21, test_size will always complement train_size unless both are specified.\n",
      "  FutureWarning)\n"
     ]
    }
   ],
   "source": [
    "cc_train, dummy= train_test_split(cc_train0, train_size = 2000, random_state = 123)\n",
    "print(cc_train.shape)"
   ]
  },
  {
   "cell_type": "code",
   "execution_count": 14,
   "metadata": {},
   "outputs": [
    {
     "name": "stdout",
     "output_type": "stream",
     "text": [
      "case control X train dim (2483, 27)\n",
      "case control y train dim (2483,)\n"
     ]
    }
   ],
   "source": [
    "cc_train = pd.concat([cc_train, cc_train1], axis=0)\n",
    "\n",
    "y_train1 = cc_train[\"RESPOND\"]\n",
    "X_train1 = cc_train.drop(\"RESPOND\", axis = 1)\n",
    "X_train1[\"intercept\"] = 1\n",
    "\n",
    "print(\"case control X train dim\",X_train1.shape)\n",
    "print(\"case control y train dim\",y_train1.shape)"
   ]
  },
  {
   "cell_type": "code",
   "execution_count": 15,
   "metadata": {
    "scrolled": false
   },
   "outputs": [
    {
     "data": {
      "image/png": "[encoded data removed]",
      "text/plain": [
       "<matplotlib.figure.Figure at 0x1c7f2a682b0>"
      ]
     },
     "metadata": {},
     "output_type": "display_data"
    }
   ],
   "source": [
    "count = y_train1.value_counts()\n",
    "ratio = count[0]/count[1]\n",
    "count.plot(kind = 'bar')\n",
    "plt.title('The distribution of RESPOND in Case-Control Train set'+\n",
    "          \"\\n# of (Y=0): # of (Y=1) =  %0.2f\" % ratio + \": 1\")\n",
    "plt.show()"
   ]
  },
  {
   "cell_type": "markdown",
   "metadata": {},
   "source": [
    "- 로지스틱 회귀모형 적합"
   ]
  },
  {
   "cell_type": "code",
   "execution_count": 16,
   "metadata": {},
   "outputs": [
    {
     "name": "stdout",
     "output_type": "stream",
     "text": [
      "Optimization terminated successfully.\n",
      "         Current function value: 0.466084\n",
      "         Iterations 6\n",
      "                         Results: Logit\n",
      "=================================================================\n",
      "Model:              Logit            Pseudo R-squared: 0.054     \n",
      "Dependent Variable: RESPOND          AIC:              2368.5746 \n",
      "Date:               2018-09-03 19:47 BIC:              2525.6396 \n",
      "No. Observations:   2483             Log-Likelihood:   -1157.3   \n",
      "Df Model:           26               LL-Null:          -1223.4   \n",
      "Df Residuals:       2456             LLR p-value:      3.4039e-16\n",
      "Converged:          1.0000           Scale:            1.0000    \n",
      "No. Iterations:     6.0000                                       \n",
      "------------------------------------------------------------------\n",
      "               Coef.   Std.Err.     z     P>|z|    [0.025   0.975]\n",
      "------------------------------------------------------------------\n",
      "AGE           -0.0342    0.0061  -5.6177  0.0000  -0.0461  -0.0223\n",
      "INCOME        -0.0015    0.0033  -0.4618  0.6442  -0.0081   0.0050\n",
      "MARRIED        0.4124    0.1233   3.3439  0.0008   0.1707   0.6541\n",
      "FICO          -0.0056    0.0018  -3.1611  0.0016  -0.0091  -0.0021\n",
      "OWNHOME       -0.3191    0.1215  -2.6258  0.0086  -0.5573  -0.0809\n",
      "BUY6          -0.3646    0.2136  -1.7069  0.0878  -0.7832   0.0541\n",
      "BUY12         -0.1853    0.2076  -0.8926  0.3721  -0.5921   0.2215\n",
      "BUY18          0.6784    0.1440   4.7125  0.0000   0.3962   0.9605\n",
      "VALUE24        0.0001    0.0005   0.2475  0.8045  -0.0008   0.0010\n",
      "DISCBUY       -0.1104    0.1209  -0.9126  0.3615  -0.3473   0.1266\n",
      "RETURN24      -0.1528    0.2163  -0.7066  0.4798  -0.5768   0.2711\n",
      "COA6          -0.0929    0.2939  -0.3159  0.7520  -0.6689   0.4832\n",
      "SEX_M         -0.0522    0.1081  -0.4828  0.6293  -0.2642   0.1597\n",
      "LOC_B         -0.3891    0.2373  -1.6401  0.1010  -0.8541   0.0759\n",
      "LOC_C          0.2533    0.2816   0.8996  0.3683  -0.2986   0.8052\n",
      "LOC_D          0.2576    0.2744   0.9387  0.3479  -0.2802   0.7953\n",
      "LOC_E         -0.3291    0.2336  -1.4085  0.1590  -0.7870   0.1288\n",
      "LOC_F         -0.4828    0.2382  -2.0267  0.0427  -0.9496  -0.0159\n",
      "LOC_G         -0.2693    0.2657  -1.0135  0.3108  -0.7902   0.2515\n",
      "LOC_H         -0.4515    0.2626  -1.7196  0.0855  -0.9662   0.0631\n",
      "ORGSRC_D      -0.1052    0.1920  -0.5480  0.5837  -0.4815   0.2711\n",
      "ORGSRC_I       0.5505    0.5087   1.0821  0.2792  -0.4465   1.5475\n",
      "ORGSRC_O       0.2381    0.1815   1.3115  0.1897  -0.1177   0.5939\n",
      "ORGSRC_P       0.1312    0.1925   0.6817  0.4954  -0.2461   0.5085\n",
      "ORGSRC_R       0.0453    0.2034   0.2228  0.8237  -0.3533   0.4439\n",
      "ORGSRC_U       0.1454    0.1896   0.7671  0.4430  -0.2261   0.5170\n",
      "intercept      3.8994    1.2938   3.0140  0.0026   1.3637   6.4351\n",
      "=================================================================\n",
      "\n",
      "rank of X_train^TX_train:  27\n"
     ]
    }
   ],
   "source": [
    "# logistic\n",
    "logit1 = sm.Logit(y_train1,X_train1)\n",
    "logit_cc = logit1.fit(maxiter = 1000)\n",
    "print(logit_cc.summary2())\n",
    "print('rank of X_train^TX_train: ',np.linalg.matrix_rank(X_train1.values))"
   ]
  },
  {
   "cell_type": "markdown",
   "metadata": {},
   "source": [
    "- 오즈비 비교"
   ]
  },
  {
   "cell_type": "code",
   "execution_count": 17,
   "metadata": {},
   "outputs": [
    {
     "data": {
      "text/plain": [
       "AGE           0.965023\n",
       "INCOME        0.999014\n",
       "MARRIED       1.571141\n",
       "FICO          0.994718\n",
       "OWNHOME       0.731522\n",
       "BUY6          0.726103\n",
       "BUY12         0.750456\n",
       "BUY18         2.164666\n",
       "VALUE24       0.999955\n",
       "DISCBUY       0.867134\n",
       "RETURN24      0.836833\n",
       "COA6          1.031603\n",
       "SEX_M         0.931798\n",
       "LOC_B         0.745643\n",
       "LOC_C         1.263878\n",
       "LOC_D         1.355348\n",
       "LOC_E         0.792130\n",
       "LOC_F         0.674167\n",
       "LOC_G         0.921548\n",
       "LOC_H         0.797771\n",
       "ORGSRC_D      0.855230\n",
       "ORGSRC_I      1.346044\n",
       "ORGSRC_O      1.104324\n",
       "ORGSRC_P      1.078317\n",
       "ORGSRC_R      1.055145\n",
       "ORGSRC_U      1.038093\n",
       "intercept    13.425084\n",
       "dtype: float64"
      ]
     },
     "execution_count": 17,
     "metadata": {},
     "output_type": "execute_result"
    }
   ],
   "source": [
    "np.exp(logit_res.params)"
   ]
  },
  {
   "cell_type": "code",
   "execution_count": 18,
   "metadata": {},
   "outputs": [
    {
     "data": {
      "text/plain": [
       "AGE           0.966404\n",
       "INCOME        0.998454\n",
       "MARRIED       1.510438\n",
       "FICO          0.994394\n",
       "OWNHOME       0.726806\n",
       "BUY6          0.694480\n",
       "BUY12         0.830881\n",
       "BUY18         1.970680\n",
       "VALUE24       1.000112\n",
       "DISCBUY       0.895521\n",
       "RETURN24      0.858269\n",
       "COA6          0.911322\n",
       "SEX_M         0.949134\n",
       "LOC_B         0.677650\n",
       "LOC_C         1.288283\n",
       "LOC_D         1.293763\n",
       "LOC_E         0.719600\n",
       "LOC_F         0.617074\n",
       "LOC_G         0.763888\n",
       "LOC_H         0.636656\n",
       "ORGSRC_D      0.900126\n",
       "ORGSRC_I      1.734054\n",
       "ORGSRC_O      1.268812\n",
       "ORGSRC_P      1.140214\n",
       "ORGSRC_R      1.046353\n",
       "ORGSRC_U      1.156516\n",
       "intercept    49.373298\n",
       "dtype: float64"
      ]
     },
     "execution_count": 18,
     "metadata": {},
     "output_type": "execute_result"
    }
   ],
   "source": [
    "np.exp(logit_cc.params)"
   ]
  },
  {
   "cell_type": "markdown",
   "metadata": {
    "collapsed": true
   },
   "source": [
    "### 참고: scikit-learn 모듈을 이용한 로지스틱 회귀분석\n",
    "\n",
    "- 목적함수:\n",
    "$$ \\frac{1}{2} \\sum_{j=1}^p \\beta_j^2 + C*(-\\text{log-likelihood})$$"
   ]
  },
  {
   "cell_type": "code",
   "execution_count": 19,
   "metadata": {},
   "outputs": [],
   "source": [
    "from sklearn.linear_model import LogisticRegression\n",
    "logit = LogisticRegression(penalty = 'l2', C = 1e10, fit_intercept = False,\n",
    "                          random_state = 42).fit(X_train, y_train)"
   ]
  },
  {
   "cell_type": "code",
   "execution_count": 20,
   "metadata": {},
   "outputs": [
    {
     "data": {
      "text/plain": [
       "array([[ -3.31628495e-02,  -2.34882958e-04,   4.28441993e-01,\n",
       "         -1.97058253e-03,  -3.06219220e-01,  -3.65994735e-01,\n",
       "         -2.55020494e-01,   7.76381698e-01,  -6.16311101e-06,\n",
       "         -1.34582456e-01,  -1.42197200e-01,   1.64631071e-02,\n",
       "         -6.50120185e-02,  -2.23646691e-01,   3.17242826e-01,\n",
       "          3.99356149e-01,  -1.38448773e-01,  -2.94499028e-01,\n",
       "         -2.54233887e-03,  -1.53159998e-01,  -1.66040683e-01,\n",
       "          6.18181317e-02,   8.09686630e-02,   5.98755748e-02,\n",
       "          3.53725988e-02,   2.59560788e-02,   7.97175384e-02]])"
      ]
     },
     "execution_count": 20,
     "metadata": {},
     "output_type": "execute_result"
    }
   ],
   "source": [
    "logit.coef_"
   ]
  },
  {
   "cell_type": "code",
   "execution_count": 21,
   "metadata": {},
   "outputs": [
    {
     "name": "stdout",
     "output_type": "stream",
     "text": [
      "[0 0 0 0 0]\n",
      "[[ 0.96906666  0.03093334]\n",
      " [ 0.90925266  0.09074734]\n",
      " [ 0.93619428  0.06380572]\n",
      " [ 0.94360942  0.05639058]\n",
      " [ 0.91469563  0.08530437]]\n"
     ]
    }
   ],
   "source": [
    "pred_class = logit.predict(X_train)\n",
    "pred_prob = logit.predict_proba(X_train)\n",
    "\n",
    "print(pred_class[:5])\n",
    "print(pred_prob[:5])"
   ]
  },
  {
   "cell_type": "code",
   "execution_count": null,
   "metadata": {
    "collapsed": true
   },
   "outputs": [],
   "source": []
  }
 ],
 "metadata": {
  "kernelspec": {
   "display_name": "Python 3",
   "language": "python",
   "name": "python3"
  },
  "language_info": {
   "codemirror_mode": {
    "name": "ipython",
    "version": 3
   },
   "file_extension": ".py",
   "mimetype": "text/x-python",
   "name": "python",
   "nbconvert_exporter": "python",
   "pygments_lexer": "ipython3",
   "version": "3.6.2"
  }
 },
 "nbformat": 4,
 "nbformat_minor": 2
}
